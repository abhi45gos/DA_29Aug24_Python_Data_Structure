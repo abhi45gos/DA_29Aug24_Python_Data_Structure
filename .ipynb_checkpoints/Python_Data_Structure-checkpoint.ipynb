{
 "cells": [
  {
   "cell_type": "markdown",
   "id": "359a433f-0cab-4f36-ba70-7902d484f88a",
   "metadata": {},
   "source": [
    "## Question 1\n",
    "### Discuss string slicing and provide examples."
   ]
  },
  {
   "cell_type": "raw",
   "id": "ea3f122d-537f-4196-91a3-517be5c40290",
   "metadata": {},
   "source": [
    "String slicing is a way to extract a part (or slice) of a string. In Python, strings are sequences of characters, and each character has an index starting from 0. Slicing allows you to specify a range of indices to extract a substring."
   ]
  },
  {
   "cell_type": "code",
   "execution_count": 4,
   "id": "737818c3-156c-43d2-844f-2b26fd7e77ff",
   "metadata": {},
   "outputs": [],
   "source": [
    "#Syntax\n",
    "#string[start:stop:step]\n",
    "#start: The starting index (inclusive). Defaults to 0 if not specified.\n",
    "#stop: The stopping index (exclusive).\n",
    "#step: The step or increment between indices. Defaults to 1."
   ]
  },
  {
   "cell_type": "markdown",
   "id": "d334954d-d0c6-4526-b736-a1adfbd91c1e",
   "metadata": {},
   "source": [
    "#### Examples:"
   ]
  },
  {
   "cell_type": "code",
   "execution_count": 5,
   "id": "a0a44e5f-f32b-43fb-85da-ccae70bc2676",
   "metadata": {},
   "outputs": [
    {
     "name": "stdout",
     "output_type": "stream",
     "text": [
      "Data\n",
      "Dt n\n",
      "Data\n",
      "Analytics\n",
      "Analytic\n",
      "scitylanA ataD\n"
     ]
    }
   ],
   "source": [
    "# Define a string\n",
    "text = \"Data Analytics\"\n",
    "\n",
    "# Basic slicing\n",
    "print(text[0:4])  # Output: Data\n",
    "\n",
    "# Slicing with a step\n",
    "print(text[0:8:2])  # Output: Dt n (takes every second character from index 0 to 7)\n",
    "\n",
    "# Omitting start index\n",
    "print(text[:4])  # Output: Data (same as text[0:4])\n",
    "\n",
    "# Omitting stop index\n",
    "print(text[5:])  # Output: Analytics (from index 5 to the end)\n",
    "\n",
    "# Using negative indices\n",
    "print(text[-9:-1])  # Output: Analytic (slices from the end)\n",
    "\n",
    "# Reversing a string\n",
    "print(text[::-1])  # Output: scitylanA ataD"
   ]
  },
  {
   "cell_type": "markdown",
   "id": "07e061f6-89e2-4ca9-800c-217f9465ac7e",
   "metadata": {},
   "source": [
    "## Question 2\n",
    "### Explain the key features of lists in Python."
   ]
  },
  {
   "cell_type": "raw",
   "id": "2a3e5bf4-a51b-4716-a0dc-cef0a2f2d179",
   "metadata": {},
   "source": [
    "Lists are a versatile data type in Python that allow you to store collections of items. Here are the key features of lists:\n",
    "\n",
    "Ordered: Lists maintain the order of elements, meaning items have a defined sequence.\n",
    "Mutable: You can modify lists by adding, removing, or changing elements.\n",
    "Heterogeneous: Lists can contain items of different data types (e.g., integers, strings, other lists).\n",
    "Indexed: Elements in a list can be accessed using their index.\n",
    "Dynamic: Lists can grow and shrink in size as elements are added or removed."
   ]
  },
  {
   "cell_type": "markdown",
   "id": "10f23bff-ea37-4737-9fcf-c56087e302e7",
   "metadata": {},
   "source": [
    "#### Examples:"
   ]
  },
  {
   "cell_type": "code",
   "execution_count": 6,
   "id": "14a10315-89f6-4348-82e8-7e50745fe22c",
   "metadata": {},
   "outputs": [
    {
     "name": "stdout",
     "output_type": "stream",
     "text": [
      "hello\n",
      "[1, 'hello', 'world', True]\n",
      "[1, 'hello', 'world', True, 42]\n",
      "[1, 'world', True, 42]\n"
     ]
    }
   ],
   "source": [
    "# Creating a list\n",
    "my_list = [1, \"hello\", 3.14, True]\n",
    "\n",
    "# Accessing elements\n",
    "print(my_list[1])  # Output: hello\n",
    "\n",
    "# Modifying elements\n",
    "my_list[2] = \"world\"\n",
    "print(my_list)  # Output: [1, 'hello', 'world', True]\n",
    "\n",
    "# Adding elements\n",
    "my_list.append(42)\n",
    "print(my_list)  # Output: [1, 'hello', 'world', True, 42]\n",
    "\n",
    "# Removing elements\n",
    "my_list.remove(\"hello\")\n",
    "print(my_list)  # Output: [1, 'world', True, 42]"
   ]
  },
  {
   "cell_type": "markdown",
   "id": "e0bf2f85-ee81-4d45-b8f6-b46f50ec9f70",
   "metadata": {},
   "source": [
    "## Question 3\n",
    "### Describe how to access, modify, and delete elements in a list with examples."
   ]
  },
  {
   "cell_type": "code",
   "execution_count": 7,
   "id": "48357ba4-fcf2-4274-90f1-384f7ef18b5a",
   "metadata": {},
   "outputs": [
    {
     "name": "stdout",
     "output_type": "stream",
     "text": [
      "10\n",
      "40\n"
     ]
    }
   ],
   "source": [
    "#Accessing elements---> You can access elements using their index:\n",
    "my_list = [10, 20, 30, 40]\n",
    "print(my_list[0])  # Output: 10\n",
    "print(my_list[-1])  # Output: 40 (last element)"
   ]
  },
  {
   "cell_type": "code",
   "execution_count": 8,
   "id": "91f00d8e-2c82-4796-9ddd-dd971763eb39",
   "metadata": {},
   "outputs": [
    {
     "name": "stdout",
     "output_type": "stream",
     "text": [
      "[10, 25, 30, 40]\n"
     ]
    }
   ],
   "source": [
    "#Modifying elements ---> You can modify elements by assigning a new value to a specific index:\n",
    "my_list[1] = 25\n",
    "print(my_list)  # Output: [10, 25, 30, 40]"
   ]
  },
  {
   "cell_type": "code",
   "execution_count": 9,
   "id": "35bc3ba6-9c13-43f5-8249-134a4f4a6dfe",
   "metadata": {},
   "outputs": [],
   "source": [
    "#Deleting elements --->"
   ]
  },
  {
   "cell_type": "code",
   "execution_count": 10,
   "id": "dff2a342-659a-49ba-8fab-9012e7b4036f",
   "metadata": {},
   "outputs": [
    {
     "name": "stdout",
     "output_type": "stream",
     "text": [
      "[10, 25, 40]\n"
     ]
    }
   ],
   "source": [
    "#Using del statement:\n",
    "del my_list[2]\n",
    "print(my_list)  # Output: [10, 25, 40]"
   ]
  },
  {
   "cell_type": "code",
   "execution_count": 11,
   "id": "a96d105e-35f2-4757-b4d4-247fc0148e38",
   "metadata": {},
   "outputs": [
    {
     "name": "stdout",
     "output_type": "stream",
     "text": [
      "[10, 40]\n"
     ]
    }
   ],
   "source": [
    "#Using remove() method (removes the first matching value):\n",
    "my_list.remove(25)\n",
    "print(my_list)  # Output: [10, 40]"
   ]
  },
  {
   "cell_type": "code",
   "execution_count": 12,
   "id": "5c2fbb80-3b4e-42b2-bb29-893a9e2391f3",
   "metadata": {},
   "outputs": [
    {
     "name": "stdout",
     "output_type": "stream",
     "text": [
      "10\n",
      "[40]\n"
     ]
    }
   ],
   "source": [
    "#Using pop() method (removes by index and returns the element):\n",
    "popped_element = my_list.pop(0)\n",
    "print(popped_element)  # Output: 10\n",
    "print(my_list)  # Output: [40]"
   ]
  },
  {
   "cell_type": "markdown",
   "id": "d1f1a2e4-fd15-4a16-8833-62c93d56f3ae",
   "metadata": {},
   "source": [
    "## Question 4\n",
    "### Compare and contrast tuples and lists with examples."
   ]
  },
  {
   "cell_type": "code",
   "execution_count": 20,
   "id": "5979dc22-c3c7-414d-9f2a-9c8d99526bcc",
   "metadata": {},
   "outputs": [
    {
     "name": "stdout",
     "output_type": "stream",
     "text": [
      "Tuples and lists are both used to store collections of items, but they have some key differences:\n",
      "\n",
      "Feature\t\tLists\t\t\t\t\tTuples\n",
      "Mutability\tMutable (can change elements)\t\tImmutable (cannot change)\n",
      "Syntax\t\tSquare brackets []\t\t\tParentheses ()\n",
      "Use cases\tWhen data may change\t\t\tWhen data is constant\n",
      "Performance\tSlightly slower due to mutability\tSlightly faster due to immutability\n"
     ]
    }
   ],
   "source": [
    "print(\"Tuples and lists are both used to store collections of items, but they have some key differences:\")\n",
    "print()\n",
    "print(\"Feature\\t\\tLists\\t\\t\\t\\t\\tTuples\\nMutability\\tMutable (can change elements)\\t\\tImmutable (cannot change)\\nSyntax\\t\\tSquare brackets []\\t\\t\\tParentheses ()\\nUse cases\\tWhen data may change\\t\\t\\tWhen data is constant\\nPerformance\\tSlightly slower due to mutability\\tSlightly faster due to immutability\")"
   ]
  },
  {
   "cell_type": "markdown",
   "id": "25fc48ab-c362-499c-8efa-0da4ed3dface",
   "metadata": {},
   "source": [
    "#### Examples:"
   ]
  },
  {
   "cell_type": "code",
   "execution_count": 21,
   "id": "fe549eb3-1a03-488b-bfb5-c6cd3d0f67c8",
   "metadata": {},
   "outputs": [
    {
     "name": "stdout",
     "output_type": "stream",
     "text": [
      "[10, 2, 3]\n",
      "(1, 2, 3)\n"
     ]
    }
   ],
   "source": [
    "# List example\n",
    "my_list = [1, 2, 3]\n",
    "my_list[0] = 10  # Modifiable\n",
    "print(my_list)  # Output: [10, 2, 3]\n",
    "\n",
    "# Tuple example\n",
    "my_tuple = (1, 2, 3)\n",
    "# my_tuple[0] = 10  # Raises an error: TypeError: 'tuple' object does not support item assignment\n",
    "print(my_tuple)  # Output: (1, 2, 3)"
   ]
  },
  {
   "cell_type": "markdown",
   "id": "e422fd4f-05f3-495a-99c6-f20a06f8b047",
   "metadata": {},
   "source": [
    "## Question 5\n",
    "### Describe the key features of sets and provide examples of their use."
   ]
  },
  {
   "cell_type": "raw",
   "id": "415541a0-0896-4817-9589-99b4108573c5",
   "metadata": {},
   "source": [
    "Sets are collections of unique, unordered items. They are useful for membership testing and eliminating duplicates.\n",
    "\n",
    "Key Features:\n",
    "\n",
    "Unordered: Items do not have a defined order.\n",
    "Unique: No duplicate elements are allowed.\n",
    "Mutable: You can add or remove items from a set.\n",
    "Unindexed: No way to access elements by index."
   ]
  },
  {
   "cell_type": "markdown",
   "id": "564e06c3-dadd-40c2-9fea-60cfef41e1e3",
   "metadata": {},
   "source": [
    "#### Examples:"
   ]
  },
  {
   "cell_type": "code",
   "execution_count": 22,
   "id": "116630f8-f484-45f9-8956-8049e6ddd57e",
   "metadata": {},
   "outputs": [
    {
     "name": "stdout",
     "output_type": "stream",
     "text": [
      "{1, 2, 3, 4, 5}\n",
      "{1, 2, 4, 5}\n",
      "True\n",
      "[1, 2, 3]\n"
     ]
    }
   ],
   "source": [
    "# Creating a set\n",
    "my_set = {1, 2, 3, 4}\n",
    "\n",
    "# Adding elements\n",
    "my_set.add(5)\n",
    "print(my_set)  # Output: {1, 2, 3, 4, 5}\n",
    "\n",
    "# Removing elements\n",
    "my_set.remove(3)\n",
    "print(my_set)  # Output: {1, 2, 4, 5}\n",
    "\n",
    "# Membership test\n",
    "print(2 in my_set)  # Output: True\n",
    "\n",
    "# Removing duplicates from a list using a set\n",
    "my_list = [1, 2, 2, 3, 3, 3]\n",
    "unique_list = list(set(my_list))\n",
    "print(unique_list)  # Output: [1, 2, 3]"
   ]
  },
  {
   "cell_type": "markdown",
   "id": "cdd55395-1d13-475b-94ce-30d4676de636",
   "metadata": {},
   "source": [
    "## Question 6\n",
    "### Discuss the use cases of tuples and sets in Python programming."
   ]
  },
  {
   "cell_type": "raw",
   "id": "4bd899b4-a026-474a-8161-12a95eb4df38",
   "metadata": {},
   "source": [
    "Tuples:\n",
    "\n",
    "Used when you want to store a collection of items that should not change (e.g., coordinates, fixed configurations).\n",
    "Can be used as dictionary keys because they are immutable.\n",
    "Ideal for returning multiple values from a function.\n",
    "\n",
    "Sets:\n",
    "\n",
    "Useful for operations involving membership testing (e.g., checking if an item exists).\n",
    "Good for eliminating duplicates from a collection.\n",
    "Useful in mathematical operations like union, intersection, difference, and symmetric difference."
   ]
  },
  {
   "cell_type": "markdown",
   "id": "5bdf05f4-68aa-4643-b2ed-0f05985e566e",
   "metadata": {},
   "source": [
    "#### Examples: Use cases of tuples"
   ]
  },
  {
   "cell_type": "code",
   "execution_count": 34,
   "id": "bb15cacf-2b97-4a1f-92c5-eeb99a4001ee",
   "metadata": {},
   "outputs": [],
   "source": [
    "#Storing Coordinates ---> Tuples are often used to store coordinates or other fixed collections of values."
   ]
  },
  {
   "cell_type": "code",
   "execution_count": 35,
   "id": "014350dc-4c8f-4f8f-93e2-5a58c34c83ee",
   "metadata": {},
   "outputs": [
    {
     "name": "stdout",
     "output_type": "stream",
     "text": [
      "X-coordinate: 10\n",
      "Y-coordinate: 20\n"
     ]
    }
   ],
   "source": [
    "# A tuple representing a point in 2D space\n",
    "point = (10, 20)\n",
    "\n",
    "# Accessing tuple elements\n",
    "print(f\"X-coordinate: {point[0]}\")  # Output: X-coordinate: 10\n",
    "print(f\"Y-coordinate: {point[1]}\")  # Output: Y-coordinate: 20"
   ]
  },
  {
   "cell_type": "code",
   "execution_count": 36,
   "id": "bc549b48-490b-450d-ad5c-be30cf80c9d1",
   "metadata": {},
   "outputs": [],
   "source": [
    "#Using Tuples as Dictionary Keys ---> Since tuples are immutable, they can be used as keys in dictionaries."
   ]
  },
  {
   "cell_type": "code",
   "execution_count": 37,
   "id": "1cf35162-4952-4526-854e-50d993532d05",
   "metadata": {},
   "outputs": [
    {
     "name": "stdout",
     "output_type": "stream",
     "text": [
      "New York\n"
     ]
    }
   ],
   "source": [
    "# Using tuples as dictionary keys\n",
    "locations = {\n",
    "    (40.7128, -74.0060): \"New York\",\n",
    "    (34.0522, -118.2437): \"Los Angeles\"\n",
    "}\n",
    "\n",
    "# Accessing values using tuple keys\n",
    "print(locations[(40.7128, -74.0060)])  # Output: New York"
   ]
  },
  {
   "cell_type": "markdown",
   "id": "7ef61e71-83c9-499a-8636-e72906c063f4",
   "metadata": {},
   "source": [
    "#### Examples: Use cases of sets"
   ]
  },
  {
   "cell_type": "code",
   "execution_count": 38,
   "id": "0900e44f-0b43-458e-a9e4-99aa239dcce3",
   "metadata": {},
   "outputs": [],
   "source": [
    "#Removing Duplicates from a List ---> Sets automatically remove duplicates, making them useful for filtering unique items."
   ]
  },
  {
   "cell_type": "code",
   "execution_count": 39,
   "id": "08471e63-ff66-4209-a784-d7928a5a5204",
   "metadata": {},
   "outputs": [
    {
     "name": "stdout",
     "output_type": "stream",
     "text": [
      "{1, 2, 3, 4, 5}\n"
     ]
    }
   ],
   "source": [
    "# List with duplicates\n",
    "numbers = [1, 2, 2, 3, 4, 4, 5]\n",
    "\n",
    "# Converting list to set to remove duplicates\n",
    "unique_numbers = set(numbers)\n",
    "print(unique_numbers)  # Output: {1, 2, 3, 4, 5}"
   ]
  },
  {
   "cell_type": "code",
   "execution_count": null,
   "id": "69d07394-38bb-45da-a0ea-8d474edea3f2",
   "metadata": {},
   "outputs": [],
   "source": [
    "#Membership Testing ---> Sets provide a fast way to check if an item is present."
   ]
  },
  {
   "cell_type": "code",
   "execution_count": 40,
   "id": "73063d2b-5704-490e-acc0-b3654cd4b792",
   "metadata": {},
   "outputs": [
    {
     "name": "stdout",
     "output_type": "stream",
     "text": [
      "True\n",
      "False\n"
     ]
    }
   ],
   "source": [
    "# Creating a set of fruits\n",
    "fruits = {\"apple\", \"banana\", \"cherry\"}\n",
    "\n",
    "# Checking for membership\n",
    "print(\"apple\" in fruits)  # Output: True\n",
    "print(\"grape\" in fruits)  # Output: False"
   ]
  },
  {
   "cell_type": "markdown",
   "id": "56078345-9b33-4bc8-bc3c-91dd9328ea52",
   "metadata": {},
   "source": [
    "## Question 7\n",
    "### Describe how to add, modify, and delete items in a dictionary with examples."
   ]
  },
  {
   "cell_type": "code",
   "execution_count": 23,
   "id": "750db632-6db9-4189-93bc-b1d63c5f75d7",
   "metadata": {},
   "outputs": [
    {
     "name": "stdout",
     "output_type": "stream",
     "text": [
      "{'name': 'Alice', 'age': 25, 'city': 'New York'}\n"
     ]
    }
   ],
   "source": [
    "#Adding Items:\n",
    "\n",
    "# Creating a dictionary\n",
    "my_dict = {'name': 'Alice', 'age': 25}\n",
    "\n",
    "# Adding a new key-value pair\n",
    "my_dict['city'] = 'New York'\n",
    "print(my_dict)  # Output: {'name': 'Alice', 'age': 25, 'city': 'New York'}"
   ]
  },
  {
   "cell_type": "code",
   "execution_count": 24,
   "id": "1176b2e8-aa34-4430-b7d5-b8a524935b6d",
   "metadata": {},
   "outputs": [
    {
     "name": "stdout",
     "output_type": "stream",
     "text": [
      "{'name': 'Alice', 'age': 26, 'city': 'New York'}\n"
     ]
    }
   ],
   "source": [
    "#Modifying Items:\n",
    "\n",
    "# Modifying an existing key\n",
    "my_dict['age'] = 26\n",
    "print(my_dict)  # Output: {'name': 'Alice', 'age': 26, 'city': 'New York'}"
   ]
  },
  {
   "cell_type": "code",
   "execution_count": 25,
   "id": "888cb1a4-19f2-4548-9eb9-0c724c89c073",
   "metadata": {},
   "outputs": [],
   "source": [
    "#Deleting items:"
   ]
  },
  {
   "cell_type": "code",
   "execution_count": 26,
   "id": "34c30eec-10c4-444d-89aa-e56620121feb",
   "metadata": {},
   "outputs": [
    {
     "name": "stdout",
     "output_type": "stream",
     "text": [
      "{'name': 'Alice', 'age': 26}\n"
     ]
    }
   ],
   "source": [
    "#Using del statement:\n",
    "del my_dict['city']\n",
    "print(my_dict)  # Output: {'name': 'Alice', 'age': 26}"
   ]
  },
  {
   "cell_type": "code",
   "execution_count": 27,
   "id": "55ec9146-0a3f-4dbe-88ac-2e83572e790f",
   "metadata": {},
   "outputs": [
    {
     "name": "stdout",
     "output_type": "stream",
     "text": [
      "26\n",
      "{'name': 'Alice'}\n"
     ]
    }
   ],
   "source": [
    "#Using pop() method:\n",
    "age = my_dict.pop('age')\n",
    "print(age)  # Output: 26\n",
    "print(my_dict)  # Output: {'name': 'Alice'}"
   ]
  },
  {
   "cell_type": "markdown",
   "id": "1c40d779-ad83-4de4-8021-9f294330abb3",
   "metadata": {},
   "source": [
    "## Question 8\n",
    "### Discuss the importance of dictionary keys being immutable and provide examples."
   ]
  },
  {
   "cell_type": "raw",
   "id": "0320c298-b180-4624-a246-94b3139b69b0",
   "metadata": {},
   "source": [
    "In Python, dictionary keys must be immutable, meaning they cannot be changed after they are created. This is because dictionaries use a hash table to store key-value pairs, and mutability would alter the hash, making it impossible to reliably retrieve the value associated with a key."
   ]
  },
  {
   "cell_type": "code",
   "execution_count": 28,
   "id": "d9bf9483-4c06-4dfb-a7bf-cde7c43ebfa7",
   "metadata": {},
   "outputs": [],
   "source": [
    "#Examples of valid keys:"
   ]
  },
  {
   "cell_type": "code",
   "execution_count": 29,
   "id": "302f04cf-9307-4cdf-97a9-1456a4f8574c",
   "metadata": {},
   "outputs": [
    {
     "name": "stdout",
     "output_type": "stream",
     "text": [
      "{1: 'one', 'key': 'value', (2, 3): 'tuple as key'}\n"
     ]
    }
   ],
   "source": [
    "#Strings, numbers, and tuples can be used as keys because they are immutable.\n",
    "my_dict = {1: 'one', 'key': 'value', (2, 3): 'tuple as key'}\n",
    "print(my_dict)  # Output: {1: 'one', 'key': 'value', (2, 3): 'tuple as key'}"
   ]
  },
  {
   "cell_type": "code",
   "execution_count": 30,
   "id": "d93c2ae4-7a24-49bd-890a-b7b7f5108012",
   "metadata": {},
   "outputs": [],
   "source": [
    "#Examples of Invalid keys:"
   ]
  },
  {
   "cell_type": "code",
   "execution_count": 32,
   "id": "c9bae83f-5dec-41f1-bf8d-5d99d16be21c",
   "metadata": {},
   "outputs": [
    {
     "ename": "TypeError",
     "evalue": "unhashable type: 'list'",
     "output_type": "error",
     "traceback": [
      "\u001b[0;31m---------------------------------------------------------------------------\u001b[0m",
      "\u001b[0;31mTypeError\u001b[0m                                 Traceback (most recent call last)",
      "Cell \u001b[0;32mIn[32], line 2\u001b[0m\n\u001b[1;32m      1\u001b[0m \u001b[38;5;66;03m#Lists, sets, or other dictionaries cannot be used as keys because they are mutable.\u001b[39;00m\n\u001b[0;32m----> 2\u001b[0m my_dict \u001b[38;5;241m=\u001b[39m {[\u001b[38;5;241m1\u001b[39m, \u001b[38;5;241m2\u001b[39m, \u001b[38;5;241m3\u001b[39m]: \u001b[38;5;124m'\u001b[39m\u001b[38;5;124mlist as key\u001b[39m\u001b[38;5;124m'\u001b[39m}  \u001b[38;5;66;03m# Raises an error: TypeError: unhashable type: 'list'\u001b[39;00m\n",
      "\u001b[0;31mTypeError\u001b[0m: unhashable type: 'list'"
     ]
    }
   ],
   "source": [
    "#Lists, sets, or other dictionaries cannot be used as keys because they are mutable.\n",
    "my_dict = {[1, 2, 3]: 'list as key'}  # Raises an error: TypeError: unhashable type: 'list'"
   ]
  },
  {
   "cell_type": "code",
   "execution_count": null,
   "id": "81855425-6932-4d00-a87e-71db200b8566",
   "metadata": {},
   "outputs": [],
   "source": []
  }
 ],
 "metadata": {
  "kernelspec": {
   "display_name": "Python 3 (ipykernel)",
   "language": "python",
   "name": "python3"
  },
  "language_info": {
   "codemirror_mode": {
    "name": "ipython",
    "version": 3
   },
   "file_extension": ".py",
   "mimetype": "text/x-python",
   "name": "python",
   "nbconvert_exporter": "python",
   "pygments_lexer": "ipython3",
   "version": "3.10.8"
  }
 },
 "nbformat": 4,
 "nbformat_minor": 5
}
